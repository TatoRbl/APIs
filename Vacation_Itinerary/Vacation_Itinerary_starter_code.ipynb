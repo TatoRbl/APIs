{
 "cells": [
  {
   "cell_type": "markdown",
   "metadata": {},
   "source": [
    "## Deliverable 3. Create a Travel Itinerary Map."
   ]
  },
  {
   "cell_type": "code",
   "execution_count": 29,
   "metadata": {},
   "outputs": [],
   "source": [
    "# Dependencies and Setup\n",
    "import pandas as pd\n",
    "import requests\n",
    "import gmaps\n",
    "\n",
    "# Import API key\n",
    "from gkey import gkey\n",
    "\n",
    "# Configure gmaps\n",
    "gmaps.configure(api_key=gkey)"
   ]
  },
  {
   "cell_type": "code",
   "execution_count": 30,
   "metadata": {},
   "outputs": [
    {
     "data": {
      "text/html": [
       "<div>\n",
       "<style scoped>\n",
       "    .dataframe tbody tr th:only-of-type {\n",
       "        vertical-align: middle;\n",
       "    }\n",
       "\n",
       "    .dataframe tbody tr th {\n",
       "        vertical-align: top;\n",
       "    }\n",
       "\n",
       "    .dataframe thead th {\n",
       "        text-align: right;\n",
       "    }\n",
       "</style>\n",
       "<table border=\"1\" class=\"dataframe\">\n",
       "  <thead>\n",
       "    <tr style=\"text-align: right;\">\n",
       "      <th></th>\n",
       "      <th>Unnamed: 0</th>\n",
       "      <th>City</th>\n",
       "      <th>Country</th>\n",
       "      <th>Max Temp</th>\n",
       "      <th>Current description</th>\n",
       "      <th>Lat</th>\n",
       "      <th>Lng</th>\n",
       "      <th>Hotel Name</th>\n",
       "    </tr>\n",
       "  </thead>\n",
       "  <tbody>\n",
       "    <tr>\n",
       "      <th>0</th>\n",
       "      <td>0</td>\n",
       "      <td>Provideniya</td>\n",
       "      <td>RU</td>\n",
       "      <td>51.91</td>\n",
       "      <td>broken clouds</td>\n",
       "      <td>64.3833</td>\n",
       "      <td>-173.3000</td>\n",
       "      <td>Hotel MX congreso</td>\n",
       "    </tr>\n",
       "    <tr>\n",
       "      <th>1</th>\n",
       "      <td>3</td>\n",
       "      <td>Havoysund</td>\n",
       "      <td>NO</td>\n",
       "      <td>48.43</td>\n",
       "      <td>overcast clouds</td>\n",
       "      <td>70.9963</td>\n",
       "      <td>24.6622</td>\n",
       "      <td>Havøysund Hotel &amp; Rorbuer</td>\n",
       "    </tr>\n",
       "    <tr>\n",
       "      <th>2</th>\n",
       "      <td>5</td>\n",
       "      <td>Barrow</td>\n",
       "      <td>US</td>\n",
       "      <td>41.02</td>\n",
       "      <td>overcast clouds</td>\n",
       "      <td>71.2906</td>\n",
       "      <td>-156.7887</td>\n",
       "      <td>Top of the World Hotel</td>\n",
       "    </tr>\n",
       "    <tr>\n",
       "      <th>3</th>\n",
       "      <td>6</td>\n",
       "      <td>Albany</td>\n",
       "      <td>US</td>\n",
       "      <td>62.67</td>\n",
       "      <td>scattered clouds</td>\n",
       "      <td>42.6001</td>\n",
       "      <td>-73.9662</td>\n",
       "      <td>Western Motel</td>\n",
       "    </tr>\n",
       "    <tr>\n",
       "      <th>4</th>\n",
       "      <td>10</td>\n",
       "      <td>Puerto Ayora</td>\n",
       "      <td>EC</td>\n",
       "      <td>68.56</td>\n",
       "      <td>overcast clouds</td>\n",
       "      <td>-0.7393</td>\n",
       "      <td>-90.3518</td>\n",
       "      <td>Hotel Eden</td>\n",
       "    </tr>\n",
       "  </tbody>\n",
       "</table>\n",
       "</div>"
      ],
      "text/plain": [
       "   Unnamed: 0          City Country  Max Temp Current description      Lat  \\\n",
       "0           0   Provideniya      RU     51.91       broken clouds  64.3833   \n",
       "1           3     Havoysund      NO     48.43     overcast clouds  70.9963   \n",
       "2           5        Barrow      US     41.02     overcast clouds  71.2906   \n",
       "3           6        Albany      US     62.67    scattered clouds  42.6001   \n",
       "4          10  Puerto Ayora      EC     68.56     overcast clouds  -0.7393   \n",
       "\n",
       "        Lng                 Hotel Name  \n",
       "0 -173.3000          Hotel MX congreso  \n",
       "1   24.6622  Havøysund Hotel & Rorbuer  \n",
       "2 -156.7887     Top of the World Hotel  \n",
       "3  -73.9662              Western Motel  \n",
       "4  -90.3518                 Hotel Eden  "
      ]
     },
     "execution_count": 30,
     "metadata": {},
     "output_type": "execute_result"
    }
   ],
   "source": [
    "# 1. Read the WeatherPy_vacation.csv into a DataFrame.\n",
    "vacation_df = pd.read_csv (r\"C:\\Users\\arabelo\\Documents\\ARD\\BoothCampTecMTY\\6-Apis\\Challenge\\Vacation_Search\\weatherPy_vacation.csv\")\n",
    "vacation_df.head()"
   ]
  },
  {
   "cell_type": "code",
   "execution_count": 31,
   "metadata": {},
   "outputs": [],
   "source": [
    "# 2. Using the template add the city name, the country code, the weather description and maximum temperature for the city.\n",
    "info_box_template = \"\"\"\n",
    "<dl><dl>\n",
    "<dd><dt>Hotel Name</dt><dd>{Hotel Name}</dd>\n",
    "<dd><dt>City</dt><dd>{City}</dd>\n",
    "<dd><dt>Country</dt><dd>{Country}</dd>\n",
    "<dd><dt>Max Temp</dt><dd>{Max Temp} °F</dd>\n",
    "</dl></dl>\n",
    "\"\"\"\n",
    "\n",
    "# 3a. Get the data from each row and add it to the formatting template and store the data in a list.\n",
    "hotel_info = [info_box_template.format(**row) for index, row in vacation_df.iterrows()]\n",
    "\n",
    "# 3b. Get the latitude and longitude from each row and store in a new DataFrame.\n",
    "locations = vacation_df[[\"Lat\", \"Lng\"]]"
   ]
  },
  {
   "cell_type": "code",
   "execution_count": 32,
   "metadata": {},
   "outputs": [
    {
     "data": {
      "application/vnd.jupyter.widget-view+json": {
       "model_id": "82c376005bf64e33b95b3bdf1d7197c5",
       "version_major": 2,
       "version_minor": 0
      },
      "text/plain": [
       "Figure(layout=FigureLayout(height='420px'))"
      ]
     },
     "metadata": {},
     "output_type": "display_data"
    }
   ],
   "source": [
    "# 4a. Add a marker layer for each city to the map.\n",
    "locations = vacation_df[[\"Lat\", \"Lng\"]]\n",
    "max_temp = vacation_df[\"Max Temp\"]\n",
    "# 4b. Display the figure\n",
    "fig = gmaps.figure(center=(30.0, 31.0), zoom_level=1.5)\n",
    "heat_layer = gmaps.heatmap_layer(locations, weights=max_temp,dissipating=False,\n",
    " max_intensity=300, point_radius=4)\n",
    "\n",
    "marker_layer = gmaps.marker_layer(locations, info_box_content=hotel_info)\n",
    "\n",
    "fig.add_layer(heat_layer)\n",
    "fig.add_layer(marker_layer)\n",
    "\n",
    "# Call the figure to plot the data.\n",
    "fig"
   ]
  },
  {
   "cell_type": "code",
   "execution_count": 33,
   "metadata": {},
   "outputs": [],
   "source": [
    "# From the map above pick 4 cities and create a vacation itinerary route to travel between the four cities. \n",
    "# 5. Create DataFrames for each city by filtering the 'vacation_df' using the loc method. \n",
    "# Hint: The starting and ending city should be the same city.\n",
    "\n",
    "vacation_start = vacation_df.loc[vacation_df[\"Hotel Name\"]== \"HOTEL OCAMPO\"]\n",
    "vacation_end = vacation_df.loc[vacation_df[\"Hotel Name\"]== \"HOTEL OCAMPO\"]\n",
    "vacation_stop1 = vacation_df.loc[vacation_df[\"Hotel Name\"]== \"Holiday Inn Express & Suites Levelland, an IHG Hotel\"]\n",
    "vacation_stop2 = vacation_df.loc[vacation_df[\"Hotel Name\"]== \"A-Lodge Boulder (Boulder Adventure Lodge)\"]\n",
    "vacation_stop3 = vacation_df.loc[vacation_df[\"Hotel Name\"]== \"Days Inn by Wyndham Gillette\"]"
   ]
  },
  {
   "cell_type": "code",
   "execution_count": 35,
   "metadata": {},
   "outputs": [],
   "source": [
    "# 6. Get the latitude-longitude pairs as tuples from each city DataFrame using the to_numpy function and list indexing.\n",
    "#start = vacation_start [[\"Lat\", \"Lng\"]]\n",
    "#end = vacation_end [[\"Lat\", \"Lng\"]]\n",
    "#stop1 = vacation_stop1 [[\"Lat\", \"Lng\"]]\n",
    "#stop2 = vacation_stop2 [[\"Lat\", \"Lng\"]]\n",
    "#stop3 = vacation_stop3 [[\"Lat\", \"Lng\"]]"
   ]
  },
  {
   "cell_type": "code",
   "execution_count": 36,
   "metadata": {},
   "outputs": [],
   "source": [
    "start= (21.65,-101.5)\n",
    "end= (21.65,-101.5)\n",
    "stop1= (33.5873,-102.378)\n",
    "stop2= (40.0833, -105.3505)\n",
    "stop3= (44.2911, -105.5022)"
   ]
  },
  {
   "cell_type": "code",
   "execution_count": 37,
   "metadata": {
    "scrolled": true
   },
   "outputs": [
    {
     "data": {
      "application/vnd.jupyter.widget-view+json": {
       "model_id": "c9feeef2e2c6451d8b45c361055624ee",
       "version_major": 2,
       "version_minor": 0
      },
      "text/plain": [
       "Figure(layout=FigureLayout(height='420px'))"
      ]
     },
     "metadata": {},
     "output_type": "display_data"
    }
   ],
   "source": [
    "# 7. Create a direction layer map using the start and end latitude-longitude pairs,\n",
    "# and stop1, stop2, and stop3 as the waypoints. The travel_mode should be \"DRIVING\", \"BICYCLING\", or \"WALKING\".\n",
    "\n",
    "import gmaps\n",
    "import gmaps.datasets\n",
    "gmaps.configure(api_key=gkey)\n",
    "\n",
    "\n",
    "fig = gmaps.figure()\n",
    "cartrip = gmaps.directions_layer(\n",
    "        start, end, waypoints=[stop1, stop2, stop3],\n",
    "        travel_mode='DRIVING')\n",
    "fig.add_layer(cartrip)\n",
    "fig"
   ]
  },
  {
   "cell_type": "code",
   "execution_count": 38,
   "metadata": {},
   "outputs": [
    {
     "data": {
      "text/html": [
       "<div>\n",
       "<style scoped>\n",
       "    .dataframe tbody tr th:only-of-type {\n",
       "        vertical-align: middle;\n",
       "    }\n",
       "\n",
       "    .dataframe tbody tr th {\n",
       "        vertical-align: top;\n",
       "    }\n",
       "\n",
       "    .dataframe thead th {\n",
       "        text-align: right;\n",
       "    }\n",
       "</style>\n",
       "<table border=\"1\" class=\"dataframe\">\n",
       "  <thead>\n",
       "    <tr style=\"text-align: right;\">\n",
       "      <th></th>\n",
       "      <th>Unnamed: 0</th>\n",
       "      <th>City</th>\n",
       "      <th>Country</th>\n",
       "      <th>Max Temp</th>\n",
       "      <th>Current description</th>\n",
       "      <th>Lat</th>\n",
       "      <th>Lng</th>\n",
       "      <th>Hotel Name</th>\n",
       "    </tr>\n",
       "  </thead>\n",
       "  <tbody>\n",
       "  </tbody>\n",
       "</table>\n",
       "</div>"
      ],
      "text/plain": [
       "Empty DataFrame\n",
       "Columns: [Unnamed: 0, City, Country, Max Temp, Current description, Lat, Lng, Hotel Name]\n",
       "Index: []"
      ]
     },
     "execution_count": 38,
     "metadata": {},
     "output_type": "execute_result"
    }
   ],
   "source": [
    "# 8. To create a marker layer map between the four cities.\n",
    "#  Combine the four city DataFrames into one DataFrame using the concat() function.\n",
    "itinerary_df = pd.concat([vacation_start,vacation_stop1,vacation_stop2,vacation_stop3,vacation_end],ignore_index=True)\n",
    "itinerary_df"
   ]
  },
  {
   "cell_type": "code",
   "execution_count": 39,
   "metadata": {},
   "outputs": [],
   "source": [
    "# 9 Using the template add city name, the country code, the weather description and maximum temperature for the city. \n",
    "info_box_template = \"\"\"\n",
    "<dl><dl>\n",
    "<dd><dt>Hotel Name</dt><dd>{Hotel Name}</dd>\n",
    "<dd><dt>City</dt><dd>{City}</dd>\n",
    "<dd><dt>Country</dt><dd>{Country}</dd>\n",
    "<dd><dt>Max Temp</dt><dd>{Max Temp} °F</dd>\n",
    "</dl></dl>\n",
    "\"\"\"\n",
    "\n",
    "# 10a Get the data from each row and add it to the formatting template and store the data in a list.\n",
    "hotel_info = [info_box_template.format(**row) for index, row in itinerary_df.iterrows()]\n",
    "\n",
    "# 10b. Get the latitude and longitude from each row and store in a new DataFrame.\n",
    "locations = itinerary_df[[\"Lat\", \"Lng\"]]"
   ]
  },
  {
   "cell_type": "code",
   "execution_count": 40,
   "metadata": {},
   "outputs": [
    {
     "data": {
      "text/html": [
       "<div>\n",
       "<style scoped>\n",
       "    .dataframe tbody tr th:only-of-type {\n",
       "        vertical-align: middle;\n",
       "    }\n",
       "\n",
       "    .dataframe tbody tr th {\n",
       "        vertical-align: top;\n",
       "    }\n",
       "\n",
       "    .dataframe thead th {\n",
       "        text-align: right;\n",
       "    }\n",
       "</style>\n",
       "<table border=\"1\" class=\"dataframe\">\n",
       "  <thead>\n",
       "    <tr style=\"text-align: right;\">\n",
       "      <th></th>\n",
       "      <th>Lat</th>\n",
       "      <th>Lng</th>\n",
       "    </tr>\n",
       "  </thead>\n",
       "  <tbody>\n",
       "  </tbody>\n",
       "</table>\n",
       "</div>"
      ],
      "text/plain": [
       "Empty DataFrame\n",
       "Columns: [Lat, Lng]\n",
       "Index: []"
      ]
     },
     "execution_count": 40,
     "metadata": {},
     "output_type": "execute_result"
    }
   ],
   "source": [
    "locations"
   ]
  },
  {
   "cell_type": "code",
   "execution_count": 41,
   "metadata": {},
   "outputs": [
    {
     "ename": "TraitError",
     "evalue": "The 'locations' trait of a WeightedHeatmap instance must be of length 1 <= L <= 9223372036854775807, but a value of [] was specified.",
     "output_type": "error",
     "traceback": [
      "\u001b[1;31m---------------------------------------------------------------------------\u001b[0m",
      "\u001b[1;31mTraitError\u001b[0m                                Traceback (most recent call last)",
      "\u001b[1;32mc:\\Users\\arabelo\\Documents\\ARD\\BoothCampTecMTY\\6-Apis\\Challenge\\Vacation_Itinerary\\Vacation_Itinerary_starter_code.ipynb Celda 14\u001b[0m in \u001b[0;36m<cell line: 5>\u001b[1;34m()\u001b[0m\n\u001b[0;32m      <a href='vscode-notebook-cell:/c%3A/Users/arabelo/Documents/ARD/BoothCampTecMTY/6-Apis/Challenge/Vacation_Itinerary/Vacation_Itinerary_starter_code.ipynb#X15sZmlsZQ%3D%3D?line=2'>3</a>\u001b[0m \u001b[39m# 4b. Display the figure\u001b[39;00m\n\u001b[0;32m      <a href='vscode-notebook-cell:/c%3A/Users/arabelo/Documents/ARD/BoothCampTecMTY/6-Apis/Challenge/Vacation_Itinerary/Vacation_Itinerary_starter_code.ipynb#X15sZmlsZQ%3D%3D?line=3'>4</a>\u001b[0m fig \u001b[39m=\u001b[39m gmaps\u001b[39m.\u001b[39mfigure(center\u001b[39m=\u001b[39m(\u001b[39m30.0\u001b[39m, \u001b[39m31.0\u001b[39m), zoom_level\u001b[39m=\u001b[39m\u001b[39m1.5\u001b[39m)\n\u001b[1;32m----> <a href='vscode-notebook-cell:/c%3A/Users/arabelo/Documents/ARD/BoothCampTecMTY/6-Apis/Challenge/Vacation_Itinerary/Vacation_Itinerary_starter_code.ipynb#X15sZmlsZQ%3D%3D?line=4'>5</a>\u001b[0m heat_layer \u001b[39m=\u001b[39m gmaps\u001b[39m.\u001b[39;49mheatmap_layer(locations, weights\u001b[39m=\u001b[39;49mmax_temp,dissipating\u001b[39m=\u001b[39;49m\u001b[39mFalse\u001b[39;49;00m,\n\u001b[0;32m      <a href='vscode-notebook-cell:/c%3A/Users/arabelo/Documents/ARD/BoothCampTecMTY/6-Apis/Challenge/Vacation_Itinerary/Vacation_Itinerary_starter_code.ipynb#X15sZmlsZQ%3D%3D?line=5'>6</a>\u001b[0m  max_intensity\u001b[39m=\u001b[39;49m\u001b[39m300\u001b[39;49m, point_radius\u001b[39m=\u001b[39;49m\u001b[39m4\u001b[39;49m)\n\u001b[0;32m      <a href='vscode-notebook-cell:/c%3A/Users/arabelo/Documents/ARD/BoothCampTecMTY/6-Apis/Challenge/Vacation_Itinerary/Vacation_Itinerary_starter_code.ipynb#X15sZmlsZQ%3D%3D?line=7'>8</a>\u001b[0m marker_layer \u001b[39m=\u001b[39m gmaps\u001b[39m.\u001b[39mmarker_layer(locations, info_box_content\u001b[39m=\u001b[39mhotel_info)\n\u001b[0;32m     <a href='vscode-notebook-cell:/c%3A/Users/arabelo/Documents/ARD/BoothCampTecMTY/6-Apis/Challenge/Vacation_Itinerary/Vacation_Itinerary_starter_code.ipynb#X15sZmlsZQ%3D%3D?line=9'>10</a>\u001b[0m fig\u001b[39m.\u001b[39madd_layer(heat_layer)\n",
      "File \u001b[1;32mc:\\Users\\arabelo\\Anaconda3\\lib\\site-packages\\gmaps\\heatmap.py:269\u001b[0m, in \u001b[0;36mheatmap_layer\u001b[1;34m(locations, weights, max_intensity, dissipating, point_radius, opacity, gradient)\u001b[0m\n\u001b[0;32m    264\u001b[0m widget_args, is_weighted \u001b[39m=\u001b[39m _heatmap_options(\n\u001b[0;32m    265\u001b[0m     locations, weights, max_intensity, dissipating, point_radius,\n\u001b[0;32m    266\u001b[0m     opacity, gradient\n\u001b[0;32m    267\u001b[0m )\n\u001b[0;32m    268\u001b[0m \u001b[39mif\u001b[39;00m is_weighted:\n\u001b[1;32m--> 269\u001b[0m     \u001b[39mreturn\u001b[39;00m WeightedHeatmap(\u001b[39m*\u001b[39m\u001b[39m*\u001b[39mwidget_args)\n\u001b[0;32m    270\u001b[0m \u001b[39melse\u001b[39;00m:\n\u001b[0;32m    271\u001b[0m     \u001b[39mreturn\u001b[39;00m Heatmap(\u001b[39m*\u001b[39m\u001b[39m*\u001b[39mwidget_args)\n",
      "File \u001b[1;32mc:\\Users\\arabelo\\Anaconda3\\lib\\site-packages\\ipywidgets\\widgets\\widget.py:412\u001b[0m, in \u001b[0;36mWidget.__init__\u001b[1;34m(self, **kwargs)\u001b[0m\n\u001b[0;32m    410\u001b[0m \u001b[39m\"\"\"Public constructor\"\"\"\u001b[39;00m\n\u001b[0;32m    411\u001b[0m \u001b[39mself\u001b[39m\u001b[39m.\u001b[39m_model_id \u001b[39m=\u001b[39m kwargs\u001b[39m.\u001b[39mpop(\u001b[39m'\u001b[39m\u001b[39mmodel_id\u001b[39m\u001b[39m'\u001b[39m, \u001b[39mNone\u001b[39;00m)\n\u001b[1;32m--> 412\u001b[0m \u001b[39msuper\u001b[39m(Widget, \u001b[39mself\u001b[39m)\u001b[39m.\u001b[39m\u001b[39m__init__\u001b[39m(\u001b[39m*\u001b[39m\u001b[39m*\u001b[39mkwargs)\n\u001b[0;32m    414\u001b[0m Widget\u001b[39m.\u001b[39m_call_widget_constructed(\u001b[39mself\u001b[39m)\n\u001b[0;32m    415\u001b[0m \u001b[39mself\u001b[39m\u001b[39m.\u001b[39mopen()\n",
      "File \u001b[1;32mc:\\Users\\arabelo\\Anaconda3\\lib\\site-packages\\traitlets\\traitlets.py:1079\u001b[0m, in \u001b[0;36mHasTraits.__init__\u001b[1;34m(self, *args, **kwargs)\u001b[0m\n\u001b[0;32m   1077\u001b[0m \u001b[39mfor\u001b[39;00m key, value \u001b[39min\u001b[39;00m kwargs\u001b[39m.\u001b[39mitems():\n\u001b[0;32m   1078\u001b[0m     \u001b[39mif\u001b[39;00m \u001b[39mself\u001b[39m\u001b[39m.\u001b[39mhas_trait(key):\n\u001b[1;32m-> 1079\u001b[0m         \u001b[39msetattr\u001b[39;49m(\u001b[39mself\u001b[39;49m, key, value)\n\u001b[0;32m   1080\u001b[0m     \u001b[39melse\u001b[39;00m:\n\u001b[0;32m   1081\u001b[0m         \u001b[39m# passthrough args that don't set traits to super\u001b[39;00m\n\u001b[0;32m   1082\u001b[0m         super_kwargs[key] \u001b[39m=\u001b[39m value\n",
      "File \u001b[1;32mc:\\Users\\arabelo\\Anaconda3\\lib\\site-packages\\traitlets\\traitlets.py:606\u001b[0m, in \u001b[0;36mTraitType.__set__\u001b[1;34m(self, obj, value)\u001b[0m\n\u001b[0;32m    604\u001b[0m     \u001b[39mraise\u001b[39;00m TraitError(\u001b[39m'\u001b[39m\u001b[39mThe \u001b[39m\u001b[39m\"\u001b[39m\u001b[39m%s\u001b[39;00m\u001b[39m\"\u001b[39m\u001b[39m trait is read-only.\u001b[39m\u001b[39m'\u001b[39m \u001b[39m%\u001b[39m \u001b[39mself\u001b[39m\u001b[39m.\u001b[39mname)\n\u001b[0;32m    605\u001b[0m \u001b[39melse\u001b[39;00m:\n\u001b[1;32m--> 606\u001b[0m     \u001b[39mself\u001b[39;49m\u001b[39m.\u001b[39;49mset(obj, value)\n",
      "File \u001b[1;32mc:\\Users\\arabelo\\Anaconda3\\lib\\site-packages\\traitlets\\traitlets.py:2651\u001b[0m, in \u001b[0;36mList.set\u001b[1;34m(self, obj, value)\u001b[0m\n\u001b[0;32m   2649\u001b[0m     \u001b[39mreturn\u001b[39;00m \u001b[39msuper\u001b[39m()\u001b[39m.\u001b[39mset(obj, [value])\n\u001b[0;32m   2650\u001b[0m \u001b[39melse\u001b[39;00m:\n\u001b[1;32m-> 2651\u001b[0m     \u001b[39mreturn\u001b[39;00m \u001b[39msuper\u001b[39;49m()\u001b[39m.\u001b[39;49mset(obj, value)\n",
      "File \u001b[1;32mc:\\Users\\arabelo\\Anaconda3\\lib\\site-packages\\traitlets\\traitlets.py:580\u001b[0m, in \u001b[0;36mTraitType.set\u001b[1;34m(self, obj, value)\u001b[0m\n\u001b[0;32m    579\u001b[0m \u001b[39mdef\u001b[39;00m \u001b[39mset\u001b[39m(\u001b[39mself\u001b[39m, obj, value):\n\u001b[1;32m--> 580\u001b[0m     new_value \u001b[39m=\u001b[39m \u001b[39mself\u001b[39;49m\u001b[39m.\u001b[39;49m_validate(obj, value)\n\u001b[0;32m    581\u001b[0m     \u001b[39mtry\u001b[39;00m:\n\u001b[0;32m    582\u001b[0m         old_value \u001b[39m=\u001b[39m obj\u001b[39m.\u001b[39m_trait_values[\u001b[39mself\u001b[39m\u001b[39m.\u001b[39mname]\n",
      "File \u001b[1;32mc:\\Users\\arabelo\\Anaconda3\\lib\\site-packages\\traitlets\\traitlets.py:612\u001b[0m, in \u001b[0;36mTraitType._validate\u001b[1;34m(self, obj, value)\u001b[0m\n\u001b[0;32m    610\u001b[0m     \u001b[39mreturn\u001b[39;00m value\n\u001b[0;32m    611\u001b[0m \u001b[39mif\u001b[39;00m \u001b[39mhasattr\u001b[39m(\u001b[39mself\u001b[39m, \u001b[39m'\u001b[39m\u001b[39mvalidate\u001b[39m\u001b[39m'\u001b[39m):\n\u001b[1;32m--> 612\u001b[0m     value \u001b[39m=\u001b[39m \u001b[39mself\u001b[39;49m\u001b[39m.\u001b[39;49mvalidate(obj, value)\n\u001b[0;32m    613\u001b[0m \u001b[39mif\u001b[39;00m obj\u001b[39m.\u001b[39m_cross_validation_lock \u001b[39mis\u001b[39;00m \u001b[39mFalse\u001b[39;00m:\n\u001b[0;32m    614\u001b[0m     value \u001b[39m=\u001b[39m \u001b[39mself\u001b[39m\u001b[39m.\u001b[39m_cross_validate(obj, value)\n",
      "File \u001b[1;32mc:\\Users\\arabelo\\Anaconda3\\lib\\site-packages\\gmaps\\geotraitlets.py:29\u001b[0m, in \u001b[0;36mLocationArray.validate\u001b[1;34m(self, obj, value)\u001b[0m\n\u001b[0;32m     27\u001b[0m     _validate_latitude(latitude)\n\u001b[0;32m     28\u001b[0m     _validate_longitude(longitude)\n\u001b[1;32m---> 29\u001b[0m \u001b[39mreturn\u001b[39;00m \u001b[39msuper\u001b[39;49m(LocationArray, \u001b[39mself\u001b[39;49m)\u001b[39m.\u001b[39;49mvalidate(obj, locations_as_list)\n",
      "File \u001b[1;32mc:\\Users\\arabelo\\Anaconda3\\lib\\site-packages\\traitlets\\traitlets.py:2506\u001b[0m, in \u001b[0;36mContainer.validate\u001b[1;34m(self, obj, value)\u001b[0m\n\u001b[0;32m   2503\u001b[0m \u001b[39mif\u001b[39;00m value \u001b[39mis\u001b[39;00m \u001b[39mNone\u001b[39;00m:\n\u001b[0;32m   2504\u001b[0m     \u001b[39mreturn\u001b[39;00m value\n\u001b[1;32m-> 2506\u001b[0m value \u001b[39m=\u001b[39m \u001b[39mself\u001b[39;49m\u001b[39m.\u001b[39;49mvalidate_elements(obj, value)\n\u001b[0;32m   2508\u001b[0m \u001b[39mreturn\u001b[39;00m value\n",
      "File \u001b[1;32mc:\\Users\\arabelo\\Anaconda3\\lib\\site-packages\\traitlets\\traitlets.py:2643\u001b[0m, in \u001b[0;36mList.validate_elements\u001b[1;34m(self, obj, value)\u001b[0m\n\u001b[0;32m   2641\u001b[0m length \u001b[39m=\u001b[39m \u001b[39mlen\u001b[39m(value)\n\u001b[0;32m   2642\u001b[0m \u001b[39mif\u001b[39;00m length \u001b[39m<\u001b[39m \u001b[39mself\u001b[39m\u001b[39m.\u001b[39m_minlen \u001b[39mor\u001b[39;00m length \u001b[39m>\u001b[39m \u001b[39mself\u001b[39m\u001b[39m.\u001b[39m_maxlen:\n\u001b[1;32m-> 2643\u001b[0m     \u001b[39mself\u001b[39;49m\u001b[39m.\u001b[39;49mlength_error(obj, value)\n\u001b[0;32m   2645\u001b[0m \u001b[39mreturn\u001b[39;00m \u001b[39msuper\u001b[39m(List, \u001b[39mself\u001b[39m)\u001b[39m.\u001b[39mvalidate_elements(obj, value)\n",
      "File \u001b[1;32mc:\\Users\\arabelo\\Anaconda3\\lib\\site-packages\\traitlets\\traitlets.py:2638\u001b[0m, in \u001b[0;36mList.length_error\u001b[1;34m(self, obj, value)\u001b[0m\n\u001b[0;32m   2635\u001b[0m \u001b[39mdef\u001b[39;00m \u001b[39mlength_error\u001b[39m(\u001b[39mself\u001b[39m, obj, value):\n\u001b[0;32m   2636\u001b[0m     e \u001b[39m=\u001b[39m \u001b[39m\"\u001b[39m\u001b[39mThe \u001b[39m\u001b[39m'\u001b[39m\u001b[39m%s\u001b[39;00m\u001b[39m'\u001b[39m\u001b[39m trait of \u001b[39m\u001b[39m%s\u001b[39;00m\u001b[39m instance must be of length \u001b[39m\u001b[39m%i\u001b[39;00m\u001b[39m <= L <= \u001b[39m\u001b[39m%i\u001b[39;00m\u001b[39m, but a value of \u001b[39m\u001b[39m%s\u001b[39;00m\u001b[39m was specified.\u001b[39m\u001b[39m\"\u001b[39m \\\n\u001b[0;32m   2637\u001b[0m         \u001b[39m%\u001b[39m (\u001b[39mself\u001b[39m\u001b[39m.\u001b[39mname, class_of(obj), \u001b[39mself\u001b[39m\u001b[39m.\u001b[39m_minlen, \u001b[39mself\u001b[39m\u001b[39m.\u001b[39m_maxlen, value)\n\u001b[1;32m-> 2638\u001b[0m     \u001b[39mraise\u001b[39;00m TraitError(e)\n",
      "\u001b[1;31mTraitError\u001b[0m: The 'locations' trait of a WeightedHeatmap instance must be of length 1 <= L <= 9223372036854775807, but a value of [] was specified."
     ]
    }
   ],
   "source": [
    "# 11a. Add a marker layer for each city to the map.\n",
    "max_temp = itinerary_df[\"Max Temp\"]\n",
    "# 4b. Display the figure\n",
    "fig = gmaps.figure(center=(30.0, 31.0), zoom_level=1.5)\n",
    "heat_layer = gmaps.heatmap_layer(locations, weights=max_temp,dissipating=False,\n",
    " max_intensity=300, point_radius=4)\n",
    "\n",
    "marker_layer = gmaps.marker_layer(locations, info_box_content=hotel_info)\n",
    "\n",
    "fig.add_layer(heat_layer)\n",
    "fig.add_layer(marker_layer)\n",
    "\n",
    "# Call the figure to plot the data.\n",
    "fig"
   ]
  },
  {
   "cell_type": "code",
   "execution_count": null,
   "metadata": {},
   "outputs": [],
   "source": []
  }
 ],
 "metadata": {
  "kernelspec": {
   "display_name": "PythonData",
   "language": "python",
   "name": "pythondata"
  },
  "language_info": {
   "codemirror_mode": {
    "name": "ipython",
    "version": 3
   },
   "file_extension": ".py",
   "mimetype": "text/x-python",
   "name": "python",
   "nbconvert_exporter": "python",
   "pygments_lexer": "ipython3",
   "version": "3.9.12"
  },
  "latex_envs": {
   "LaTeX_envs_menu_present": true,
   "autoclose": false,
   "autocomplete": true,
   "bibliofile": "biblio.bib",
   "cite_by": "apalike",
   "current_citInitial": 1,
   "eqLabelWithNumbers": true,
   "eqNumInitial": 1,
   "hotkeys": {
    "equation": "Ctrl-E",
    "itemize": "Ctrl-I"
   },
   "labels_anchors": false,
   "latex_user_defs": false,
   "report_style_numbering": false,
   "user_envs_cfg": false
  }
 },
 "nbformat": 4,
 "nbformat_minor": 2
}
